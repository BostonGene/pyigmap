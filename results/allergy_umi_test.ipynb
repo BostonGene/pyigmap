{
 "cells": [
  {
   "cell_type": "code",
   "execution_count": 1,
   "id": "1c87b785-97f9-46a1-803a-3f2cecc2f208",
   "metadata": {},
   "outputs": [],
   "source": [
    "import seaborn as sns\n",
    "import pandas as pd\n",
    "from collections import defaultdict, Counter\n",
    "import matplotlib.pyplot as plt"
   ]
  },
  {
   "cell_type": "code",
   "execution_count": 2,
   "id": "7c8ace57-e423-4a1d-b177-bdf575a31eff",
   "metadata": {},
   "outputs": [],
   "source": [
    "uniqueness = set()"
   ]
  },
  {
   "cell_type": "code",
   "execution_count": 3,
   "id": "b5103ad2-f9da-4402-8d92-3e6ed95dc80a",
   "metadata": {},
   "outputs": [],
   "source": [
    "import gzip\n",
    "\n",
    "def get_consensus_group_size_per_read(fastq_file: str, id_to_umi: dict[int, str]) -> list[int]:\n",
    "    \"\"\"Reads a FASTQ file chunk and returns a list of reads.\"\"\"\n",
    "    umi_to_group_size_per_read = defaultdict(int)\n",
    "    num_reads = 0\n",
    "    with gzip.open(fastq_file, 'rb') as f:\n",
    "        while header := f.readline().strip().decode(\"utf-8\"):  # read header string\n",
    "            if not header:\n",
    "                break\n",
    "            _ = f.readline()\n",
    "            _ = f.readline()\n",
    "            _ = f.readline()\n",
    "            \n",
    "            group_ids = header.split('\\t')[1].split(';')[:-1]\n",
    "            consensus_group_size = len(group_ids)  # @0  145607;265853;563279;\n",
    "            # print(header, group_ids, consensus_group_size)\n",
    "            \n",
    "            umi = Counter([id_to_umi[int(x)] for x in group_ids]).most_common(1)[0][0]\n",
    "            umi_to_group_size_per_read[umi] += consensus_group_size\n",
    "            num_reads += 1\n",
    "\n",
    "    print(num_reads)    \n",
    "    return umi_to_group_size_per_read\n",
    "    \n"
   ]
  },
  {
   "cell_type": "code",
   "execution_count": 4,
   "id": "679fe5b3-7af2-4167-9396-b90e86d6404f",
   "metadata": {},
   "outputs": [],
   "source": [
    "sequences = []"
   ]
  },
  {
   "cell_type": "code",
   "execution_count": 5,
   "id": "197097d7-6fff-4ace-bf27-e457e16f42f7",
   "metadata": {},
   "outputs": [],
   "source": [
    "def get_read_to_umi_mapping(fastq_file: str, umi_len: int = 9) -> dict[str, int]:\n",
    "    umi_to_count = defaultdict(int)\n",
    "    id_to_umi = {}\n",
    "    read_id = 0\n",
    "    with gzip.open(fastq_file) as f:\n",
    "        while header := f.readline().strip().decode(\"utf-8\"):  # read header string\n",
    "            if not header:\n",
    "                break\n",
    "            sequence = f.readline()\n",
    "            sequences.append(sequence)\n",
    "            _ = f.readline()\n",
    "            _ = f.readline()\n",
    "            \n",
    "            umi = sequence[:umi_len]\n",
    "            \n",
    "            umi_to_count[umi] += 1\n",
    "            id_to_umi[read_id] = umi\n",
    "            read_id += 1\n",
    "            \n",
    "    return umi_to_count, id_to_umi"
   ]
  },
  {
   "cell_type": "code",
   "execution_count": 6,
   "id": "7705dcd1-4783-4abd-b407-90aef0af1de2",
   "metadata": {},
   "outputs": [],
   "source": [
    "umi_to_count_mapping_pre, id_to_umi = get_read_to_umi_mapping('ERR7425614_2.fastq.gz')"
   ]
  },
  {
   "cell_type": "code",
   "execution_count": 7,
   "id": "6fed8e2a-7c03-4755-b660-ecb9ef522d27",
   "metadata": {},
   "outputs": [
    {
     "data": {
      "text/plain": [
       "b'ACAAACTCA'"
      ]
     },
     "execution_count": 7,
     "metadata": {},
     "output_type": "execute_result"
    }
   ],
   "source": [
    "id_to_umi[2]"
   ]
  },
  {
   "cell_type": "code",
   "execution_count": 9,
   "id": "b94fce6f-e736-4a0a-ab94-c41ecf91d438",
   "metadata": {},
   "outputs": [
    {
     "name": "stdout",
     "output_type": "stream",
     "text": [
      "3311\n"
     ]
    }
   ],
   "source": [
    "umi_to_count_mapping_post = get_consensus_group_size_per_read('ALLERGY_dedup_2.fastq.gz', id_to_umi)"
   ]
  },
  {
   "cell_type": "code",
   "execution_count": 10,
   "id": "79cc951c-5921-4e2f-b9c8-ae2158b6c4c3",
   "metadata": {},
   "outputs": [],
   "source": [
    "res = pd.DataFrame({'umi': umi_to_count_mapping_pre.keys(), \n",
    "              'read_num_pre_dedup': umi_to_count_mapping_pre.values()}).merge(\n",
    "            pd.DataFrame({'umi': umi_to_count_mapping_post.keys(), \n",
    "                      'read_num_post_dedup': umi_to_count_mapping_post.values()}), how='outer'\n",
    ")"
   ]
  },
  {
   "cell_type": "code",
   "execution_count": 11,
   "id": "37085c7b-55fa-46de-9292-a385081c0915",
   "metadata": {},
   "outputs": [
    {
     "data": {
      "text/plain": [
       "read_num_pre_dedup     11365.0\n",
       "read_num_post_dedup    11365.0\n",
       "dtype: float64"
      ]
     },
     "execution_count": 11,
     "metadata": {},
     "output_type": "execute_result"
    }
   ],
   "source": [
    "res.drop(columns=['umi']).sum()"
   ]
  },
  {
   "cell_type": "code",
   "execution_count": 12,
   "id": "406d941c-6b00-4285-a52c-56cb25798e91",
   "metadata": {},
   "outputs": [
    {
     "data": {
      "text/html": [
       "<div>\n",
       "<style scoped>\n",
       "    .dataframe tbody tr th:only-of-type {\n",
       "        vertical-align: middle;\n",
       "    }\n",
       "\n",
       "    .dataframe tbody tr th {\n",
       "        vertical-align: top;\n",
       "    }\n",
       "\n",
       "    .dataframe thead th {\n",
       "        text-align: right;\n",
       "    }\n",
       "</style>\n",
       "<table border=\"1\" class=\"dataframe\">\n",
       "  <thead>\n",
       "    <tr style=\"text-align: right;\">\n",
       "      <th></th>\n",
       "      <th>umi</th>\n",
       "    </tr>\n",
       "    <tr>\n",
       "      <th>read_num_pre_dedup</th>\n",
       "      <th></th>\n",
       "    </tr>\n",
       "  </thead>\n",
       "  <tbody>\n",
       "    <tr>\n",
       "      <th>1</th>\n",
       "      <td>942</td>\n",
       "    </tr>\n",
       "    <tr>\n",
       "      <th>2</th>\n",
       "      <td>364</td>\n",
       "    </tr>\n",
       "    <tr>\n",
       "      <th>3</th>\n",
       "      <td>298</td>\n",
       "    </tr>\n",
       "    <tr>\n",
       "      <th>4</th>\n",
       "      <td>252</td>\n",
       "    </tr>\n",
       "    <tr>\n",
       "      <th>5</th>\n",
       "      <td>191</td>\n",
       "    </tr>\n",
       "    <tr>\n",
       "      <th>6</th>\n",
       "      <td>175</td>\n",
       "    </tr>\n",
       "    <tr>\n",
       "      <th>7</th>\n",
       "      <td>128</td>\n",
       "    </tr>\n",
       "    <tr>\n",
       "      <th>8</th>\n",
       "      <td>79</td>\n",
       "    </tr>\n",
       "    <tr>\n",
       "      <th>9</th>\n",
       "      <td>88</td>\n",
       "    </tr>\n",
       "    <tr>\n",
       "      <th>10</th>\n",
       "      <td>58</td>\n",
       "    </tr>\n",
       "    <tr>\n",
       "      <th>11</th>\n",
       "      <td>53</td>\n",
       "    </tr>\n",
       "    <tr>\n",
       "      <th>12</th>\n",
       "      <td>31</td>\n",
       "    </tr>\n",
       "    <tr>\n",
       "      <th>13</th>\n",
       "      <td>22</td>\n",
       "    </tr>\n",
       "    <tr>\n",
       "      <th>14</th>\n",
       "      <td>20</td>\n",
       "    </tr>\n",
       "    <tr>\n",
       "      <th>15</th>\n",
       "      <td>12</td>\n",
       "    </tr>\n",
       "    <tr>\n",
       "      <th>16</th>\n",
       "      <td>12</td>\n",
       "    </tr>\n",
       "    <tr>\n",
       "      <th>17</th>\n",
       "      <td>12</td>\n",
       "    </tr>\n",
       "    <tr>\n",
       "      <th>18</th>\n",
       "      <td>6</td>\n",
       "    </tr>\n",
       "    <tr>\n",
       "      <th>19</th>\n",
       "      <td>5</td>\n",
       "    </tr>\n",
       "    <tr>\n",
       "      <th>20</th>\n",
       "      <td>3</td>\n",
       "    </tr>\n",
       "    <tr>\n",
       "      <th>22</th>\n",
       "      <td>6</td>\n",
       "    </tr>\n",
       "    <tr>\n",
       "      <th>23</th>\n",
       "      <td>4</td>\n",
       "    </tr>\n",
       "    <tr>\n",
       "      <th>24</th>\n",
       "      <td>2</td>\n",
       "    </tr>\n",
       "    <tr>\n",
       "      <th>25</th>\n",
       "      <td>4</td>\n",
       "    </tr>\n",
       "    <tr>\n",
       "      <th>26</th>\n",
       "      <td>1</td>\n",
       "    </tr>\n",
       "    <tr>\n",
       "      <th>30</th>\n",
       "      <td>1</td>\n",
       "    </tr>\n",
       "    <tr>\n",
       "      <th>31</th>\n",
       "      <td>1</td>\n",
       "    </tr>\n",
       "    <tr>\n",
       "      <th>34</th>\n",
       "      <td>1</td>\n",
       "    </tr>\n",
       "    <tr>\n",
       "      <th>35</th>\n",
       "      <td>1</td>\n",
       "    </tr>\n",
       "  </tbody>\n",
       "</table>\n",
       "</div>"
      ],
      "text/plain": [
       "                    umi\n",
       "read_num_pre_dedup     \n",
       "1                   942\n",
       "2                   364\n",
       "3                   298\n",
       "4                   252\n",
       "5                   191\n",
       "6                   175\n",
       "7                   128\n",
       "8                    79\n",
       "9                    88\n",
       "10                   58\n",
       "11                   53\n",
       "12                   31\n",
       "13                   22\n",
       "14                   20\n",
       "15                   12\n",
       "16                   12\n",
       "17                   12\n",
       "18                    6\n",
       "19                    5\n",
       "20                    3\n",
       "22                    6\n",
       "23                    4\n",
       "24                    2\n",
       "25                    4\n",
       "26                    1\n",
       "30                    1\n",
       "31                    1\n",
       "34                    1\n",
       "35                    1"
      ]
     },
     "execution_count": 12,
     "metadata": {},
     "output_type": "execute_result"
    }
   ],
   "source": [
    "res[['read_num_pre_dedup', 'umi']].groupby('read_num_pre_dedup').count()"
   ]
  },
  {
   "cell_type": "code",
   "execution_count": 13,
   "id": "9fc5d049-17c0-4e53-b1bd-e420188cb645",
   "metadata": {},
   "outputs": [
    {
     "data": {
      "text/plain": [
       "<Axes: xlabel='read_num_pre_dedup', ylabel='Count'>"
      ]
     },
     "execution_count": 13,
     "metadata": {},
     "output_type": "execute_result"
    },
    {
     "data": {
      "image/png": "[encoded data removed]",
      "text/plain": [
       "<Figure size 640x480 with 1 Axes>"
      ]
     },
     "metadata": {},
     "output_type": "display_data"
    }
   ],
   "source": [
    "sns.histplot(res, x='read_num_pre_dedup', log_scale=True)"
   ]
  },
  {
   "cell_type": "code",
   "execution_count": 14,
   "id": "50e75a18-0feb-4cad-986d-29b562881a43",
   "metadata": {},
   "outputs": [
    {
     "data": {
      "text/html": [
       "<div>\n",
       "<style scoped>\n",
       "    .dataframe tbody tr th:only-of-type {\n",
       "        vertical-align: middle;\n",
       "    }\n",
       "\n",
       "    .dataframe tbody tr th {\n",
       "        vertical-align: top;\n",
       "    }\n",
       "\n",
       "    .dataframe thead th {\n",
       "        text-align: right;\n",
       "    }\n",
       "</style>\n",
       "<table border=\"1\" class=\"dataframe\">\n",
       "  <thead>\n",
       "    <tr style=\"text-align: right;\">\n",
       "      <th></th>\n",
       "      <th>umi</th>\n",
       "      <th>read_num_pre_dedup</th>\n",
       "      <th>read_num_post_dedup</th>\n",
       "    </tr>\n",
       "  </thead>\n",
       "  <tbody>\n",
       "    <tr>\n",
       "      <th>244</th>\n",
       "      <td>b'TCAAAATCA'</td>\n",
       "      <td>23</td>\n",
       "      <td>947.0</td>\n",
       "    </tr>\n",
       "    <tr>\n",
       "      <th>485</th>\n",
       "      <td>b'ACAAAATCA'</td>\n",
       "      <td>26</td>\n",
       "      <td>128.0</td>\n",
       "    </tr>\n",
       "    <tr>\n",
       "      <th>361</th>\n",
       "      <td>b'GATACGTCA'</td>\n",
       "      <td>31</td>\n",
       "      <td>117.0</td>\n",
       "    </tr>\n",
       "    <tr>\n",
       "      <th>298</th>\n",
       "      <td>b'AGCAAATCA'</td>\n",
       "      <td>34</td>\n",
       "      <td>86.0</td>\n",
       "    </tr>\n",
       "    <tr>\n",
       "      <th>212</th>\n",
       "      <td>b'TGTCCTCCA'</td>\n",
       "      <td>22</td>\n",
       "      <td>78.0</td>\n",
       "    </tr>\n",
       "    <tr>\n",
       "      <th>...</th>\n",
       "      <td>...</td>\n",
       "      <td>...</td>\n",
       "      <td>...</td>\n",
       "    </tr>\n",
       "    <tr>\n",
       "      <th>2751</th>\n",
       "      <td>b'AATGTATCA'</td>\n",
       "      <td>2</td>\n",
       "      <td>NaN</td>\n",
       "    </tr>\n",
       "    <tr>\n",
       "      <th>2757</th>\n",
       "      <td>b'CGTCTATAA'</td>\n",
       "      <td>1</td>\n",
       "      <td>NaN</td>\n",
       "    </tr>\n",
       "    <tr>\n",
       "      <th>2758</th>\n",
       "      <td>b'CGAACATCA'</td>\n",
       "      <td>1</td>\n",
       "      <td>NaN</td>\n",
       "    </tr>\n",
       "    <tr>\n",
       "      <th>2761</th>\n",
       "      <td>b'CTTGTGTCA'</td>\n",
       "      <td>1</td>\n",
       "      <td>NaN</td>\n",
       "    </tr>\n",
       "    <tr>\n",
       "      <th>2764</th>\n",
       "      <td>b'AGGATTTCA'</td>\n",
       "      <td>1</td>\n",
       "      <td>NaN</td>\n",
       "    </tr>\n",
       "  </tbody>\n",
       "</table>\n",
       "<p>2772 rows × 3 columns</p>\n",
       "</div>"
      ],
      "text/plain": [
       "               umi  read_num_pre_dedup  read_num_post_dedup\n",
       "244   b'TCAAAATCA'                  23                947.0\n",
       "485   b'ACAAAATCA'                  26                128.0\n",
       "361   b'GATACGTCA'                  31                117.0\n",
       "298   b'AGCAAATCA'                  34                 86.0\n",
       "212   b'TGTCCTCCA'                  22                 78.0\n",
       "...            ...                 ...                  ...\n",
       "2751  b'AATGTATCA'                   2                  NaN\n",
       "2757  b'CGTCTATAA'                   1                  NaN\n",
       "2758  b'CGAACATCA'                   1                  NaN\n",
       "2761  b'CTTGTGTCA'                   1                  NaN\n",
       "2764  b'AGGATTTCA'                   1                  NaN\n",
       "\n",
       "[2772 rows x 3 columns]"
      ]
     },
     "execution_count": 14,
     "metadata": {},
     "output_type": "execute_result"
    }
   ],
   "source": [
    "res.sort_values(by='read_num_post_dedup', ascending=False)"
   ]
  },
  {
   "cell_type": "code",
   "execution_count": 15,
   "id": "70028b9d-9f14-4143-b931-0e402ba61603",
   "metadata": {},
   "outputs": [
    {
     "data": {
      "text/html": [
       "<div>\n",
       "<style scoped>\n",
       "    .dataframe tbody tr th:only-of-type {\n",
       "        vertical-align: middle;\n",
       "    }\n",
       "\n",
       "    .dataframe tbody tr th {\n",
       "        vertical-align: top;\n",
       "    }\n",
       "\n",
       "    .dataframe thead th {\n",
       "        text-align: right;\n",
       "    }\n",
       "</style>\n",
       "<table border=\"1\" class=\"dataframe\">\n",
       "  <thead>\n",
       "    <tr style=\"text-align: right;\">\n",
       "      <th></th>\n",
       "      <th>umi</th>\n",
       "      <th>read_num_pre_dedup</th>\n",
       "      <th>read_num_post_dedup</th>\n",
       "    </tr>\n",
       "  </thead>\n",
       "  <tbody>\n",
       "    <tr>\n",
       "      <th>169</th>\n",
       "      <td>b'AATATATCA'</td>\n",
       "      <td>35</td>\n",
       "      <td>26.0</td>\n",
       "    </tr>\n",
       "    <tr>\n",
       "      <th>298</th>\n",
       "      <td>b'AGCAAATCA'</td>\n",
       "      <td>34</td>\n",
       "      <td>86.0</td>\n",
       "    </tr>\n",
       "    <tr>\n",
       "      <th>361</th>\n",
       "      <td>b'GATACGTCA'</td>\n",
       "      <td>31</td>\n",
       "      <td>117.0</td>\n",
       "    </tr>\n",
       "    <tr>\n",
       "      <th>179</th>\n",
       "      <td>b'TGATGCTCA'</td>\n",
       "      <td>30</td>\n",
       "      <td>36.0</td>\n",
       "    </tr>\n",
       "    <tr>\n",
       "      <th>485</th>\n",
       "      <td>b'ACAAAATCA'</td>\n",
       "      <td>26</td>\n",
       "      <td>128.0</td>\n",
       "    </tr>\n",
       "    <tr>\n",
       "      <th>...</th>\n",
       "      <td>...</td>\n",
       "      <td>...</td>\n",
       "      <td>...</td>\n",
       "    </tr>\n",
       "    <tr>\n",
       "      <th>2686</th>\n",
       "      <td>b'CTCGTGTCA'</td>\n",
       "      <td>1</td>\n",
       "      <td>1.0</td>\n",
       "    </tr>\n",
       "    <tr>\n",
       "      <th>2687</th>\n",
       "      <td>b'AGCGCATCA'</td>\n",
       "      <td>1</td>\n",
       "      <td>NaN</td>\n",
       "    </tr>\n",
       "    <tr>\n",
       "      <th>2688</th>\n",
       "      <td>b'CTTTGGTCA'</td>\n",
       "      <td>1</td>\n",
       "      <td>1.0</td>\n",
       "    </tr>\n",
       "    <tr>\n",
       "      <th>2689</th>\n",
       "      <td>b'AGTGAATCA'</td>\n",
       "      <td>1</td>\n",
       "      <td>1.0</td>\n",
       "    </tr>\n",
       "    <tr>\n",
       "      <th>2690</th>\n",
       "      <td>b'CTATTATCA'</td>\n",
       "      <td>1</td>\n",
       "      <td>1.0</td>\n",
       "    </tr>\n",
       "  </tbody>\n",
       "</table>\n",
       "<p>2772 rows × 3 columns</p>\n",
       "</div>"
      ],
      "text/plain": [
       "               umi  read_num_pre_dedup  read_num_post_dedup\n",
       "169   b'AATATATCA'                  35                 26.0\n",
       "298   b'AGCAAATCA'                  34                 86.0\n",
       "361   b'GATACGTCA'                  31                117.0\n",
       "179   b'TGATGCTCA'                  30                 36.0\n",
       "485   b'ACAAAATCA'                  26                128.0\n",
       "...            ...                 ...                  ...\n",
       "2686  b'CTCGTGTCA'                   1                  1.0\n",
       "2687  b'AGCGCATCA'                   1                  NaN\n",
       "2688  b'CTTTGGTCA'                   1                  1.0\n",
       "2689  b'AGTGAATCA'                   1                  1.0\n",
       "2690  b'CTATTATCA'                   1                  1.0\n",
       "\n",
       "[2772 rows x 3 columns]"
      ]
     },
     "execution_count": 15,
     "metadata": {},
     "output_type": "execute_result"
    }
   ],
   "source": [
    "res.sort_values(by='read_num_pre_dedup', ascending=False)"
   ]
  },
  {
   "cell_type": "code",
   "execution_count": 16,
   "id": "e73a2f83-6ec4-4dfe-b02f-a4ec1166651d",
   "metadata": {},
   "outputs": [
    {
     "data": {
      "text/html": [
       "<div>\n",
       "<style scoped>\n",
       "    .dataframe tbody tr th:only-of-type {\n",
       "        vertical-align: middle;\n",
       "    }\n",
       "\n",
       "    .dataframe tbody tr th {\n",
       "        vertical-align: top;\n",
       "    }\n",
       "\n",
       "    .dataframe thead th {\n",
       "        text-align: right;\n",
       "    }\n",
       "</style>\n",
       "<table border=\"1\" class=\"dataframe\">\n",
       "  <thead>\n",
       "    <tr style=\"text-align: right;\">\n",
       "      <th></th>\n",
       "      <th>umi</th>\n",
       "      <th>read_num_pre_dedup</th>\n",
       "    </tr>\n",
       "    <tr>\n",
       "      <th>read_num_post_dedup</th>\n",
       "      <th></th>\n",
       "      <th></th>\n",
       "    </tr>\n",
       "  </thead>\n",
       "  <tbody>\n",
       "    <tr>\n",
       "      <th>1.0</th>\n",
       "      <td>830</td>\n",
       "      <td>830</td>\n",
       "    </tr>\n",
       "    <tr>\n",
       "      <th>2.0</th>\n",
       "      <td>298</td>\n",
       "      <td>298</td>\n",
       "    </tr>\n",
       "    <tr>\n",
       "      <th>3.0</th>\n",
       "      <td>242</td>\n",
       "      <td>242</td>\n",
       "    </tr>\n",
       "    <tr>\n",
       "      <th>4.0</th>\n",
       "      <td>191</td>\n",
       "      <td>191</td>\n",
       "    </tr>\n",
       "    <tr>\n",
       "      <th>5.0</th>\n",
       "      <td>164</td>\n",
       "      <td>164</td>\n",
       "    </tr>\n",
       "    <tr>\n",
       "      <th>6.0</th>\n",
       "      <td>124</td>\n",
       "      <td>124</td>\n",
       "    </tr>\n",
       "    <tr>\n",
       "      <th>7.0</th>\n",
       "      <td>112</td>\n",
       "      <td>112</td>\n",
       "    </tr>\n",
       "    <tr>\n",
       "      <th>8.0</th>\n",
       "      <td>63</td>\n",
       "      <td>63</td>\n",
       "    </tr>\n",
       "    <tr>\n",
       "      <th>9.0</th>\n",
       "      <td>65</td>\n",
       "      <td>65</td>\n",
       "    </tr>\n",
       "    <tr>\n",
       "      <th>10.0</th>\n",
       "      <td>44</td>\n",
       "      <td>44</td>\n",
       "    </tr>\n",
       "    <tr>\n",
       "      <th>11.0</th>\n",
       "      <td>32</td>\n",
       "      <td>32</td>\n",
       "    </tr>\n",
       "    <tr>\n",
       "      <th>12.0</th>\n",
       "      <td>24</td>\n",
       "      <td>24</td>\n",
       "    </tr>\n",
       "    <tr>\n",
       "      <th>13.0</th>\n",
       "      <td>20</td>\n",
       "      <td>20</td>\n",
       "    </tr>\n",
       "    <tr>\n",
       "      <th>14.0</th>\n",
       "      <td>15</td>\n",
       "      <td>15</td>\n",
       "    </tr>\n",
       "    <tr>\n",
       "      <th>15.0</th>\n",
       "      <td>10</td>\n",
       "      <td>10</td>\n",
       "    </tr>\n",
       "    <tr>\n",
       "      <th>16.0</th>\n",
       "      <td>15</td>\n",
       "      <td>15</td>\n",
       "    </tr>\n",
       "    <tr>\n",
       "      <th>17.0</th>\n",
       "      <td>17</td>\n",
       "      <td>17</td>\n",
       "    </tr>\n",
       "    <tr>\n",
       "      <th>18.0</th>\n",
       "      <td>8</td>\n",
       "      <td>8</td>\n",
       "    </tr>\n",
       "    <tr>\n",
       "      <th>19.0</th>\n",
       "      <td>7</td>\n",
       "      <td>7</td>\n",
       "    </tr>\n",
       "    <tr>\n",
       "      <th>20.0</th>\n",
       "      <td>5</td>\n",
       "      <td>5</td>\n",
       "    </tr>\n",
       "    <tr>\n",
       "      <th>21.0</th>\n",
       "      <td>2</td>\n",
       "      <td>2</td>\n",
       "    </tr>\n",
       "    <tr>\n",
       "      <th>22.0</th>\n",
       "      <td>4</td>\n",
       "      <td>4</td>\n",
       "    </tr>\n",
       "    <tr>\n",
       "      <th>23.0</th>\n",
       "      <td>1</td>\n",
       "      <td>1</td>\n",
       "    </tr>\n",
       "    <tr>\n",
       "      <th>24.0</th>\n",
       "      <td>2</td>\n",
       "      <td>2</td>\n",
       "    </tr>\n",
       "    <tr>\n",
       "      <th>25.0</th>\n",
       "      <td>4</td>\n",
       "      <td>4</td>\n",
       "    </tr>\n",
       "    <tr>\n",
       "      <th>26.0</th>\n",
       "      <td>3</td>\n",
       "      <td>3</td>\n",
       "    </tr>\n",
       "    <tr>\n",
       "      <th>27.0</th>\n",
       "      <td>2</td>\n",
       "      <td>2</td>\n",
       "    </tr>\n",
       "    <tr>\n",
       "      <th>29.0</th>\n",
       "      <td>2</td>\n",
       "      <td>2</td>\n",
       "    </tr>\n",
       "    <tr>\n",
       "      <th>30.0</th>\n",
       "      <td>1</td>\n",
       "      <td>1</td>\n",
       "    </tr>\n",
       "    <tr>\n",
       "      <th>31.0</th>\n",
       "      <td>2</td>\n",
       "      <td>2</td>\n",
       "    </tr>\n",
       "    <tr>\n",
       "      <th>32.0</th>\n",
       "      <td>1</td>\n",
       "      <td>1</td>\n",
       "    </tr>\n",
       "    <tr>\n",
       "      <th>34.0</th>\n",
       "      <td>1</td>\n",
       "      <td>1</td>\n",
       "    </tr>\n",
       "    <tr>\n",
       "      <th>35.0</th>\n",
       "      <td>2</td>\n",
       "      <td>2</td>\n",
       "    </tr>\n",
       "    <tr>\n",
       "      <th>36.0</th>\n",
       "      <td>2</td>\n",
       "      <td>2</td>\n",
       "    </tr>\n",
       "    <tr>\n",
       "      <th>39.0</th>\n",
       "      <td>2</td>\n",
       "      <td>2</td>\n",
       "    </tr>\n",
       "    <tr>\n",
       "      <th>40.0</th>\n",
       "      <td>1</td>\n",
       "      <td>1</td>\n",
       "    </tr>\n",
       "    <tr>\n",
       "      <th>41.0</th>\n",
       "      <td>1</td>\n",
       "      <td>1</td>\n",
       "    </tr>\n",
       "    <tr>\n",
       "      <th>50.0</th>\n",
       "      <td>2</td>\n",
       "      <td>2</td>\n",
       "    </tr>\n",
       "    <tr>\n",
       "      <th>78.0</th>\n",
       "      <td>1</td>\n",
       "      <td>1</td>\n",
       "    </tr>\n",
       "    <tr>\n",
       "      <th>86.0</th>\n",
       "      <td>1</td>\n",
       "      <td>1</td>\n",
       "    </tr>\n",
       "    <tr>\n",
       "      <th>117.0</th>\n",
       "      <td>1</td>\n",
       "      <td>1</td>\n",
       "    </tr>\n",
       "    <tr>\n",
       "      <th>128.0</th>\n",
       "      <td>1</td>\n",
       "      <td>1</td>\n",
       "    </tr>\n",
       "    <tr>\n",
       "      <th>947.0</th>\n",
       "      <td>1</td>\n",
       "      <td>1</td>\n",
       "    </tr>\n",
       "  </tbody>\n",
       "</table>\n",
       "</div>"
      ],
      "text/plain": [
       "                     umi  read_num_pre_dedup\n",
       "read_num_post_dedup                         \n",
       "1.0                  830                 830\n",
       "2.0                  298                 298\n",
       "3.0                  242                 242\n",
       "4.0                  191                 191\n",
       "5.0                  164                 164\n",
       "6.0                  124                 124\n",
       "7.0                  112                 112\n",
       "8.0                   63                  63\n",
       "9.0                   65                  65\n",
       "10.0                  44                  44\n",
       "11.0                  32                  32\n",
       "12.0                  24                  24\n",
       "13.0                  20                  20\n",
       "14.0                  15                  15\n",
       "15.0                  10                  10\n",
       "16.0                  15                  15\n",
       "17.0                  17                  17\n",
       "18.0                   8                   8\n",
       "19.0                   7                   7\n",
       "20.0                   5                   5\n",
       "21.0                   2                   2\n",
       "22.0                   4                   4\n",
       "23.0                   1                   1\n",
       "24.0                   2                   2\n",
       "25.0                   4                   4\n",
       "26.0                   3                   3\n",
       "27.0                   2                   2\n",
       "29.0                   2                   2\n",
       "30.0                   1                   1\n",
       "31.0                   2                   2\n",
       "32.0                   1                   1\n",
       "34.0                   1                   1\n",
       "35.0                   2                   2\n",
       "36.0                   2                   2\n",
       "39.0                   2                   2\n",
       "40.0                   1                   1\n",
       "41.0                   1                   1\n",
       "50.0                   2                   2\n",
       "78.0                   1                   1\n",
       "86.0                   1                   1\n",
       "117.0                  1                   1\n",
       "128.0                  1                   1\n",
       "947.0                  1                   1"
      ]
     },
     "execution_count": 16,
     "metadata": {},
     "output_type": "execute_result"
    }
   ],
   "source": [
    "res.groupby(by='read_num_post_dedup').count()"
   ]
  },
  {
   "cell_type": "code",
   "execution_count": 17,
   "id": "f06cb385-c683-4b04-9bd7-51d767d62dcd",
   "metadata": {},
   "outputs": [
    {
     "data": {
      "text/plain": [
       "<Axes: xlabel='read_num_post_dedup', ylabel='Count'>"
      ]
     },
     "execution_count": 17,
     "metadata": {},
     "output_type": "execute_result"
    },
    {
     "data": {
      "image/png": "[encoded data removed]",
      "text/plain": [
       "<Figure size 640x480 with 1 Axes>"
      ]
     },
     "metadata": {},
     "output_type": "display_data"
    }
   ],
   "source": [
    "sns.histplot(res, x='read_num_post_dedup', log_scale=True)"
   ]
  },
  {
   "cell_type": "code",
   "execution_count": 18,
   "id": "87236501-8d97-4f69-aa75-40485ce90789",
   "metadata": {},
   "outputs": [
    {
     "data": {
      "text/html": [
       "<div>\n",
       "<style scoped>\n",
       "    .dataframe tbody tr th:only-of-type {\n",
       "        vertical-align: middle;\n",
       "    }\n",
       "\n",
       "    .dataframe tbody tr th {\n",
       "        vertical-align: top;\n",
       "    }\n",
       "\n",
       "    .dataframe thead th {\n",
       "        text-align: right;\n",
       "    }\n",
       "</style>\n",
       "<table border=\"1\" class=\"dataframe\">\n",
       "  <thead>\n",
       "    <tr style=\"text-align: right;\">\n",
       "      <th></th>\n",
       "      <th>umi</th>\n",
       "      <th>read_num_pre_dedup</th>\n",
       "      <th>read_num_post_dedup</th>\n",
       "    </tr>\n",
       "  </thead>\n",
       "  <tbody>\n",
       "  </tbody>\n",
       "</table>\n",
       "</div>"
      ],
      "text/plain": [
       "Empty DataFrame\n",
       "Columns: [umi, read_num_pre_dedup, read_num_post_dedup]\n",
       "Index: []"
      ]
     },
     "execution_count": 18,
     "metadata": {},
     "output_type": "execute_result"
    }
   ],
   "source": [
    "res[res.read_num_pre_dedup > 1000]"
   ]
  },
  {
   "cell_type": "code",
   "execution_count": 19,
   "id": "ccecb424-544f-4a9d-8087-2bd699e7868e",
   "metadata": {},
   "outputs": [
    {
     "data": {
      "text/plain": [
       "<Axes: xlabel='read_num_post_dedup', ylabel='Count'>"
      ]
     },
     "execution_count": 19,
     "metadata": {},
     "output_type": "execute_result"
    },
    {
     "data": {
      "image/png": "[encoded data removed]",
      "text/plain": [
       "<Figure size 640x480 with 1 Axes>"
      ]
     },
     "metadata": {},
     "output_type": "display_data"
    }
   ],
   "source": [
    "sns.histplot(res, x='read_num_post_dedup', log_scale=True)"
   ]
  },
  {
   "cell_type": "code",
   "execution_count": 20,
   "id": "577c7ad5-bac6-47c9-a484-12642878087c",
   "metadata": {},
   "outputs": [
    {
     "ename": "TypeError",
     "evalue": "You have to supply one of 'by' and 'level'",
     "output_type": "error",
     "traceback": [
      "\u001b[0;31m---------------------------------------------------------------------------\u001b[0m",
      "\u001b[0;31mTypeError\u001b[0m                                 Traceback (most recent call last)",
      "\u001b[0;32m/scratch/ipykernel_3205970/2949860201.py\u001b[0m in \u001b[0;36m?\u001b[0;34m()\u001b[0m\n\u001b[0;32m----> 1\u001b[0;31m \u001b[0mres\u001b[0m\u001b[0;34m.\u001b[0m\u001b[0mgroupby\u001b[0m\u001b[0;34m(\u001b[0m\u001b[0;34m)\u001b[0m\u001b[0;34m\u001b[0m\u001b[0;34m\u001b[0m\u001b[0m\n\u001b[0m",
      "\u001b[0;32m~/.conda/envs/bio-3-11/lib/python3.11/site-packages/pandas/core/frame.py\u001b[0m in \u001b[0;36m?\u001b[0;34m(self, by, axis, level, as_index, sort, group_keys, observed, dropna)\u001b[0m\n\u001b[1;32m   8245\u001b[0m     ) -> DataFrameGroupBy:\n\u001b[1;32m   8246\u001b[0m         \u001b[0;32mfrom\u001b[0m \u001b[0mpandas\u001b[0m\u001b[0;34m.\u001b[0m\u001b[0mcore\u001b[0m\u001b[0;34m.\u001b[0m\u001b[0mgroupby\u001b[0m\u001b[0;34m.\u001b[0m\u001b[0mgeneric\u001b[0m \u001b[0;32mimport\u001b[0m \u001b[0mDataFrameGroupBy\u001b[0m\u001b[0;34m\u001b[0m\u001b[0;34m\u001b[0m\u001b[0m\n\u001b[1;32m   8247\u001b[0m \u001b[0;34m\u001b[0m\u001b[0m\n\u001b[1;32m   8248\u001b[0m         \u001b[0;32mif\u001b[0m \u001b[0mlevel\u001b[0m \u001b[0;32mis\u001b[0m \u001b[0;32mNone\u001b[0m \u001b[0;32mand\u001b[0m \u001b[0mby\u001b[0m \u001b[0;32mis\u001b[0m \u001b[0;32mNone\u001b[0m\u001b[0;34m:\u001b[0m\u001b[0;34m\u001b[0m\u001b[0;34m\u001b[0m\u001b[0m\n\u001b[0;32m-> 8249\u001b[0;31m             \u001b[0;32mraise\u001b[0m \u001b[0mTypeError\u001b[0m\u001b[0;34m(\u001b[0m\u001b[0;34m\"You have to supply one of 'by' and 'level'\"\u001b[0m\u001b[0;34m)\u001b[0m\u001b[0;34m\u001b[0m\u001b[0;34m\u001b[0m\u001b[0m\n\u001b[0m\u001b[1;32m   8250\u001b[0m         \u001b[0maxis\u001b[0m \u001b[0;34m=\u001b[0m \u001b[0mself\u001b[0m\u001b[0;34m.\u001b[0m\u001b[0m_get_axis_number\u001b[0m\u001b[0;34m(\u001b[0m\u001b[0maxis\u001b[0m\u001b[0;34m)\u001b[0m\u001b[0;34m\u001b[0m\u001b[0;34m\u001b[0m\u001b[0m\n\u001b[1;32m   8251\u001b[0m \u001b[0;34m\u001b[0m\u001b[0m\n\u001b[1;32m   8252\u001b[0m         return DataFrameGroupBy(\n",
      "\u001b[0;31mTypeError\u001b[0m: You have to supply one of 'by' and 'level'"
     ]
    }
   ],
   "source": [
    "res.groupby()"
   ]
  },
  {
   "cell_type": "code",
   "execution_count": 21,
   "id": "c96eb39d-5950-450d-b8cf-1be161131357",
   "metadata": {},
   "outputs": [],
   "source": [
    "import logomaker\n",
    "def plot_logo(clonotypes, ax):\n",
    "    mat_df = logomaker.alignment_to_matrix(clonotypes)\n",
    "    logomaker.Logo(mat_df, color_scheme='skylign_protein', ax=ax)"
   ]
  },
  {
   "cell_type": "code",
   "execution_count": 22,
   "id": "a8f9b593-d5ce-4ca2-8243-3edb8723751b",
   "metadata": {},
   "outputs": [
    {
     "data": {
      "text/plain": [
       "(-0.475, 11.475, 0.0, 11365.0)"
      ]
     },
     "execution_count": 22,
     "metadata": {},
     "output_type": "execute_result"
    },
    {
     "data": {
      "image/png": "[encoded data removed]",
      "text/plain": [
       "<Figure size 640x480 with 1 Axes>"
      ]
     },
     "metadata": {},
     "output_type": "display_data"
    }
   ],
   "source": [
    "fig, ax = plt.subplots()\n",
    "plot_logo([x[:12].decode('ascii') for x in sequences], \n",
    "         ax=ax)\n",
    "plt.axis('off')"
   ]
  },
  {
   "cell_type": "code",
   "execution_count": 18,
   "id": "d363d941-69f4-4008-9ccd-7a51f56d3124",
   "metadata": {},
   "outputs": [
    {
     "data": {
      "text/plain": [
       "5"
      ]
     },
     "execution_count": 18,
     "metadata": {},
     "output_type": "execute_result"
    }
   ],
   "source": [
    "5"
   ]
  },
  {
   "cell_type": "code",
   "execution_count": null,
   "id": "a13d01c8-51f4-4792-8dc5-8737b991100b",
   "metadata": {},
   "outputs": [],
   "source": []
  },
  {
   "cell_type": "markdown",
   "id": "a1e921f4-095e-4e51-800f-8dac2acd88c4",
   "metadata": {
    "tags": []
   },
   "source": [
    "## reading initial data"
   ]
  },
  {
   "cell_type": "code",
   "execution_count": 18,
   "id": "ad97f5b6-aa95-475c-ba8c-869095db5064",
   "metadata": {},
   "outputs": [
    {
     "data": {
      "text/plain": [
       "('read_cluster_id',\n",
       " 'read_node_id',\n",
       " 'read_id',\n",
       " 'read_f_name',\n",
       " 'read_f_seq',\n",
       " 'read_f_qual',\n",
       " 'read_r_name',\n",
       " 'read_r_seq',\n",
       " 'read_r_qual')"
      ]
     },
     "execution_count": 18,
     "metadata": {},
     "output_type": "execute_result"
    }
   ],
   "source": [
    "'read_cluster_id', 'read_node_id', 'read_id', 'read_f_name', 'read_f_seq', 'read_f_qual', 'read_r_name', 'read_r_seq', 'read_r_qual'"
   ]
  },
  {
   "cell_type": "code",
   "execution_count": 29,
   "id": "308e5512-269c-4257-8e70-b97982595827",
   "metadata": {},
   "outputs": [],
   "source": [
    "def read_fastq_gz(fastq_file):\n",
    "    sequences = []\n",
    "    with gzip.open(fastq_file) as f:\n",
    "        while header := f.readline().strip().decode(\"utf-8\"):  # read header string\n",
    "            if not header:\n",
    "                break\n",
    "            sequence = f.readline()\n",
    "            _, _ = f.readline(), f.readline()\n",
    "            sequences.append(sequence)\n",
    "    return sequences"
   ]
  },
  {
   "cell_type": "code",
   "execution_count": 48,
   "id": "f3df48ca-484f-4771-938b-92f3891cb806",
   "metadata": {},
   "outputs": [],
   "source": [
    "data = read_fastq_gz('../results/test_takara_2_pyumi.fastq.gz')"
   ]
  },
  {
   "cell_type": "code",
   "execution_count": 49,
   "id": "3c35a44e-5fd7-45fa-a9dd-a5aaaa35459c",
   "metadata": {},
   "outputs": [
    {
     "data": {
      "text/plain": [
       "250000"
      ]
     },
     "execution_count": 49,
     "metadata": {},
     "output_type": "execute_result"
    }
   ],
   "source": [
    "len(data)"
   ]
  },
  {
   "cell_type": "code",
   "execution_count": 50,
   "id": "9eba6adf-2462-4bdb-b338-67f39e7856a0",
   "metadata": {},
   "outputs": [],
   "source": [
    "adapters = [x[:12].decode('ascii').strip() for x in data]"
   ]
  },
  {
   "cell_type": "code",
   "execution_count": 51,
   "id": "3754aeb8-073f-42ad-8d65-158aa46a1d6c",
   "metadata": {},
   "outputs": [
    {
     "data": {
      "text/plain": [
       "b'ATGTCCGTTGTAGTACGGGGGGGGCGTCCCTCCTCCTCTGCTCCTGCTCACAGTGATCCTGATCTGGTAAAGCTCCCAGCCTGCCCTGCCCCTGCCAGGGGCACCAGGCTCCTCTTCTGGGTGGCCTTCTGGCTCCTGGGGGCAGATCAC\\n'"
      ]
     },
     "execution_count": 51,
     "metadata": {},
     "output_type": "execute_result"
    }
   ],
   "source": [
    "data[0]"
   ]
  },
  {
   "cell_type": "code",
   "execution_count": 52,
   "id": "fd051627-5d90-4f47-813b-5c054eb8fb39",
   "metadata": {},
   "outputs": [
    {
     "data": {
      "text/plain": [
       "'ATGTCCGTTGTA'"
      ]
     },
     "execution_count": 52,
     "metadata": {},
     "output_type": "execute_result"
    }
   ],
   "source": [
    "adapters[0]"
   ]
  },
  {
   "cell_type": "code",
   "execution_count": 53,
   "id": "bd82ad2f-3c00-419e-9e70-62c29afa8c43",
   "metadata": {},
   "outputs": [
    {
     "data": {
      "text/plain": [
       "12"
      ]
     },
     "execution_count": 53,
     "metadata": {},
     "output_type": "execute_result"
    }
   ],
   "source": [
    "len(adapters[0])"
   ]
  },
  {
   "cell_type": "code",
   "execution_count": 54,
   "id": "17e961da-024e-4f2e-9421-91abfc50c5a5",
   "metadata": {},
   "outputs": [
    {
     "data": {
      "text/plain": [
       "(-0.475, 11.475, 0.0, 250000.0)"
      ]
     },
     "execution_count": 54,
     "metadata": {},
     "output_type": "execute_result"
    },
    {
     "data": {
      "image/png": "[encoded data removed]",
      "text/plain": [
       "<Figure size 432x288 with 1 Axes>"
      ]
     },
     "metadata": {
      "needs_background": "light"
     },
     "output_type": "display_data"
    }
   ],
   "source": [
    "fig, ax = plt.subplots()\n",
    "plot_logo(adapters, ax=ax)\n",
    "plt.axis('off')"
   ]
  },
  {
   "cell_type": "code",
   "execution_count": 44,
   "id": "2dc8082a-c464-42d1-abe1-319a88adc502",
   "metadata": {},
   "outputs": [
    {
     "data": {
      "text/plain": [
       "152"
      ]
     },
     "execution_count": 44,
     "metadata": {},
     "output_type": "execute_result"
    }
   ],
   "source": [
    "len(sequences[0])"
   ]
  },
  {
   "cell_type": "code",
   "execution_count": 45,
   "id": "35e8fa2c-bdce-4872-a284-3da5c82ca78b",
   "metadata": {},
   "outputs": [],
   "source": [
    "counters = []"
   ]
  },
  {
   "cell_type": "code",
   "execution_count": 46,
   "id": "40190f47-4bab-4c95-9829-105d87a987f9",
   "metadata": {},
   "outputs": [
    {
     "data": {
      "text/plain": [
       "152    145130\n",
       "150     51251\n",
       "151     35343\n",
       "149     10295\n",
       "148      1177\n",
       "        ...  \n",
       "50          3\n",
       "57          2\n",
       "38          1\n",
       "41          1\n",
       "60          1\n",
       "Name: count, Length: 111, dtype: int64"
      ]
     },
     "execution_count": 46,
     "metadata": {},
     "output_type": "execute_result"
    }
   ],
   "source": [
    "pd.Series([len(x) for x in sequences]).value_counts()"
   ]
  },
  {
   "cell_type": "code",
   "execution_count": 47,
   "id": "1052f8e4-f2d3-4651-8452-36c217372e78",
   "metadata": {},
   "outputs": [
    {
     "ename": "IndexError",
     "evalue": "index out of range",
     "output_type": "error",
     "traceback": [
      "\u001b[0;31m---------------------------------------------------------------------------\u001b[0m",
      "\u001b[0;31mIndexError\u001b[0m                                Traceback (most recent call last)",
      "Cell \u001b[0;32mIn[47], line 2\u001b[0m\n\u001b[1;32m      1\u001b[0m \u001b[38;5;28;01mfor\u001b[39;00m i \u001b[38;5;129;01min\u001b[39;00m \u001b[38;5;28mrange\u001b[39m(\u001b[38;5;241m152\u001b[39m):\n\u001b[0;32m----> 2\u001b[0m     counters\u001b[38;5;241m.\u001b[39mappend(Counter([x[i] \u001b[38;5;28;01mfor\u001b[39;00m x \u001b[38;5;129;01min\u001b[39;00m sequences]))\n",
      "Cell \u001b[0;32mIn[47], line 2\u001b[0m, in \u001b[0;36m<listcomp>\u001b[0;34m(.0)\u001b[0m\n\u001b[1;32m      1\u001b[0m \u001b[38;5;28;01mfor\u001b[39;00m i \u001b[38;5;129;01min\u001b[39;00m \u001b[38;5;28mrange\u001b[39m(\u001b[38;5;241m152\u001b[39m):\n\u001b[0;32m----> 2\u001b[0m     counters\u001b[38;5;241m.\u001b[39mappend(Counter([x[i] \u001b[38;5;28;01mfor\u001b[39;00m x \u001b[38;5;129;01min\u001b[39;00m sequences]))\n",
      "\u001b[0;31mIndexError\u001b[0m: index out of range"
     ]
    }
   ],
   "source": [
    "for i in range(152):\n",
    "    counters.append(Counter([x[i] for x in sequences]))"
   ]
  },
  {
   "cell_type": "code",
   "execution_count": null,
   "id": "8f2c9441-c7a3-4fc0-9632-d529e117ff53",
   "metadata": {},
   "outputs": [],
   "source": []
  }
 ],
 "metadata": {
  "kernelspec": {
   "display_name": "bio-3-11",
   "language": "python",
   "name": "bio-3-11"
  },
  "language_info": {
   "codemirror_mode": {
    "name": "ipython",
    "version": 3
   },
   "file_extension": ".py",
   "mimetype": "text/x-python",
   "name": "python",
   "nbconvert_exporter": "python",
   "pygments_lexer": "ipython3",
   "version": "3.11.11"
  }
 },
 "nbformat": 4,
 "nbformat_minor": 5
}
